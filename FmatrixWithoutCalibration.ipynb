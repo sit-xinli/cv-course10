{
 "cells": [
  {
   "cell_type": "code",
   "execution_count": 25,
   "id": "759876c4",
   "metadata": {},
   "outputs": [],
   "source": [
    "import cv2\n",
    "import numpy as np\n"
   ]
  },
  {
   "cell_type": "code",
   "execution_count": 26,
   "id": "4764b4f7",
   "metadata": {},
   "outputs": [
    {
     "data": {
      "text/plain": [
       "-1"
      ]
     },
     "execution_count": 26,
     "metadata": {},
     "output_type": "execute_result"
    }
   ],
   "source": [
    "img1 = cv2.imread('data/IMG_8297.jpg')\n",
    "img2 = cv2.imread('data/IMG_8298.jpg')\n",
    "img1 = cv2.resize(img1, ((int)(img1.shape[1]/4), (int)(img1.shape[0]/4)))\n",
    "h,w, c = img1.shape\n",
    "\n",
    "# resize img2 to match img1 \n",
    "img2= cv2.resize(img2, (w, h), interpolation=cv2.INTER_LINEAR)\n",
    "\n",
    "img12 = np.hstack((img1, img2))\n",
    "\n",
    "cv2.namedWindow('OriginalImage', cv2.WINDOW_NORMAL)\n",
    "cv2.imshow('OriginalImage', img12)\n",
    "cv2.waitKey(0)"
   ]
  },
  {
   "cell_type": "code",
   "execution_count": 27,
   "id": "fea4878a",
   "metadata": {},
   "outputs": [
    {
     "data": {
      "text/plain": [
       "-1"
      ]
     },
     "execution_count": 27,
     "metadata": {},
     "output_type": "execute_result"
    }
   ],
   "source": [
    "sift = cv2.SIFT_create()\n",
    "kp1, des1 = sift.detectAndCompute(img1, None)\n",
    "kp2, des2 = sift.detectAndCompute(img2, None)\n",
    "\n",
    "img1_kp = cv2.drawKeypoints(img1, kp1, None, flags=cv2.DRAW_MATCHES_FLAGS_DRAW_RICH_KEYPOINTS)\n",
    "img2_kp = cv2.drawKeypoints(img2, kp2, None, flags=cv2.DRAW_MATCHES_FLAGS_DRAW_RICH_KEYPOINTS)\n",
    "\n",
    "img12_kp = np.hstack((img1_kp, img2_kp))\n",
    "cv2.namedWindow('FeaturePoints', cv2.WINDOW_NORMAL)\n",
    "cv2.imshow('FeaturePoints', img12_kp)\n",
    "cv2.waitKey(0)"
   ]
  },
  {
   "cell_type": "code",
   "execution_count": 28,
   "id": "5f8cda92",
   "metadata": {},
   "outputs": [
    {
     "data": {
      "text/plain": [
       "-1"
      ]
     },
     "execution_count": 28,
     "metadata": {},
     "output_type": "execute_result"
    }
   ],
   "source": [
    "bf = cv2.BFMatcher()\n",
    "matches = bf.match(des1, des2)\n",
    "matches = sorted(matches, key = lambda x:x.distance)\n",
    "\n",
    "img_matches = cv2.drawMatches(img1, kp1, img2, kp2, matches[:200], None, flags=cv2.DrawMatchesFlags_NOT_DRAW_SINGLE_POINTS)\n",
    "cv2.namedWindow('MatchedPoints', cv2.WINDOW_NORMAL)\n",
    "cv2.imshow('MatchedPoints', img_matches)\n",
    "cv2.waitKey(0)"
   ]
  },
  {
   "cell_type": "markdown",
   "id": "555c49eb",
   "metadata": {},
   "source": [
    "### 最近隣距離比により、良いマッチングペアを選出する"
   ]
  },
  {
   "cell_type": "code",
   "execution_count": 29,
   "id": "77c87535",
   "metadata": {},
   "outputs": [
    {
     "data": {
      "text/plain": [
       "-1"
      ]
     },
     "execution_count": 29,
     "metadata": {},
     "output_type": "execute_result"
    }
   ],
   "source": [
    "matches_rt = bf.knnMatch(des1, des2, k=2)\n",
    "good_matches = []\n",
    "for m,n in matches_rt:\n",
    "    if m.distance < 0.75*n.distance:\n",
    "        good_matches.append(m)\n",
    "\n",
    "good_matches = sorted(good_matches, key = lambda x:x.distance)\n",
    "img_good_matches = cv2.drawMatches(img1, kp1, img2, kp2, good_matches[:200], None, flags=cv2.DrawMatchesFlags_NOT_DRAW_SINGLE_POINTS)\n",
    "cv2.namedWindow('MatchedPoints200', cv2.WINDOW_NORMAL)\n",
    "cv2.imshow('MatchedPoints200', img_good_matches)\n",
    "cv2.waitKey(0)"
   ]
  },
  {
   "cell_type": "markdown",
   "id": "5b490426",
   "metadata": {},
   "source": [
    "### 最近距離比から選出した良いマッチングペアにより基礎行列Fを計算する。算出したFにより外れポイントを外す"
   ]
  },
  {
   "cell_type": "code",
   "execution_count": 30,
   "id": "2f4e4490",
   "metadata": {},
   "outputs": [
    {
     "data": {
      "text/plain": [
       "-1"
      ]
     },
     "execution_count": 30,
     "metadata": {},
     "output_type": "execute_result"
    }
   ],
   "source": [
    "pts1 = []\n",
    "pts2 = []\n",
    "\n",
    "for i,m in enumerate(good_matches):\n",
    "    pts1.append(kp1[m.queryIdx].pt)\n",
    "    pts2.append(kp2[m.trainIdx].pt)\n",
    "\n",
    "import numpy as np\n",
    "pts1 = np.int32(pts1)\n",
    "pts2 = np.int32(pts2)\n",
    "F, mask = cv2.findFundamentalMat(pts1, pts2, cv2.RANSAC)\n",
    "\n",
    "pts1_inliers = pts1[mask.ravel() == 1]\n",
    "pts2_inliers = pts2[mask.ravel() == 1]\n",
    "\n",
    "good_matches_inliers = [m for i,m in enumerate(good_matches[:200]) if mask[i,0] == 1]\n",
    "\n",
    "img_good_matches_inliers = cv2.drawMatches(img1,kp1,img2,kp2,good_matches_inliers[:200],None,flags=cv2.DrawMatchesFlags_NOT_DRAW_SINGLE_POINTS)\n",
    "cv2.namedWindow('GoodMatchedPoints', cv2.WINDOW_NORMAL)\n",
    "cv2.imshow('GoodMatchedPoints', img_good_matches_inliers)\n",
    "cv2.waitKey(0)\n"
   ]
  },
  {
   "cell_type": "markdown",
   "id": "6f9d203d",
   "metadata": {},
   "source": [
    "### エピポーラ線を描画する。\n",
    "- エピポーラ線 ax+by+c=0の(a,b,c)は(r[0],r[1],[r[2]])\n",
    "- エピポーラ線の両端はx=0の時とx=画像幅の時"
   ]
  },
  {
   "cell_type": "code",
   "execution_count": 31,
   "id": "e1930af3",
   "metadata": {},
   "outputs": [
    {
     "data": {
      "text/plain": [
       "-1"
      ]
     },
     "execution_count": 31,
     "metadata": {},
     "output_type": "execute_result"
    }
   ],
   "source": [
    "def drawlines(img1,img2,lines,pts1,pts2):\n",
    "    ''' img1 - image on which we draw the epilines for the points in img2\n",
    "        lines - corresponding epilines '''\n",
    "    r,c,ch = img1.shape\n",
    "    for r,pt1,pt2 in zip(lines,pts1,pts2):\n",
    "        color = tuple(np.random.randint(0,255,3).tolist())\n",
    "        x0,y0 = map(int, [0, -r[2]/r[1] ])\n",
    "        x1,y1 = map(int, [c, -(r[2]+r[0]*c)/r[1] ])\n",
    "        img1 = cv2.line(img1, (x0,y0), (x1,y1), color,1)\n",
    "        img1 = cv2.circle(img1,tuple(pt1),5,color,-1)\n",
    "        img2 = cv2.circle(img2,tuple(pt2),5,color,-1)\n",
    "    return img1,img2\n",
    "\n",
    "pts1_inliers_200 = pts1_inliers[0:200,:]\n",
    "pts2_inliers_200 = pts2_inliers[0:200,:]\n",
    "\n",
    "lines1 = cv2.computeCorrespondEpilines(pts2_inliers_200.reshape(-1,1,2),2,F)\n",
    "lines1 = lines1.reshape(-1,3)\n",
    "img5,img6 = drawlines(img1.copy(),img2.copy(),lines1,pts1,pts2)\n",
    "lines2 = cv2.computeCorrespondEpilines(pts1_inliers_200.reshape(-1,1,2),1,F)\n",
    "lines2 = lines2.reshape(-1,3)\n",
    "img3,img4 = drawlines(img2.copy(),img1.copy(),lines2,pts2,pts1)\n",
    "img35 = np.hstack((img3,img5))\n",
    "cv2.namedWindow('EpipoleLines', cv2.WINDOW_NORMAL)\n",
    "cv2.imshow('EpipoleLines', img35)\n",
    "cv2.waitKey(0)"
   ]
  },
  {
   "cell_type": "markdown",
   "id": "9baab0ff",
   "metadata": {},
   "source": [
    "### さらに、Fで外れ値を削除した後の200個のペアを選んでにより基礎行列Fを計算して、エピポーラ線を可視化する"
   ]
  },
  {
   "cell_type": "code",
   "execution_count": 32,
   "id": "878b2ec9",
   "metadata": {},
   "outputs": [
    {
     "data": {
      "text/plain": [
       "-1"
      ]
     },
     "execution_count": 32,
     "metadata": {},
     "output_type": "execute_result"
    }
   ],
   "source": [
    "F, mask = cv2.findFundamentalMat(pts1[0:200,:], pts2[0:200,:], cv2.FM_RANSAC)\n",
    "\n",
    "pts1 = pts1[0:200,:]\n",
    "pts2 = pts2[0:200,:]\n",
    "pts1_inliers = pts1[mask.ravel() == 1]\n",
    "pts2_inliers = pts2[mask.ravel() == 1]\n",
    "\n",
    "pts1_inliers_200 = pts1_inliers[0:200,:]\n",
    "pts2_inliers_200 = pts2_inliers[0:200,:]\n",
    "\n",
    "lines1 = cv2.computeCorrespondEpilines(pts2_inliers_200.reshape(-1,1,2),2,F)\n",
    "lines1 = lines1.reshape(-1,3)\n",
    "img5,img6 = drawlines(img1.copy(),img2.copy(),lines1,pts1,pts2)\n",
    "lines2 = cv2.computeCorrespondEpilines(pts1_inliers_200.reshape(-1,1,2),1,F)\n",
    "lines2 = lines2.reshape(-1,3)\n",
    "img3,img4 = drawlines(img2.copy(),img1.copy(),lines2,pts2,pts1)\n",
    "img35 = np.hstack((img3,img5))\n",
    "cv2.namedWindow('GoodEpipoleLines', cv2.WINDOW_NORMAL)\n",
    "cv2.imshow('GoodEpipoleLines', img35)\n",
    "cv2.waitKey(0)"
   ]
  },
  {
   "cell_type": "code",
   "execution_count": null,
   "id": "14494a51",
   "metadata": {},
   "outputs": [],
   "source": []
  }
 ],
 "metadata": {
  "kernelspec": {
   "display_name": "cv-course10",
   "language": "python",
   "name": "python3"
  },
  "language_info": {
   "codemirror_mode": {
    "name": "ipython",
    "version": 3
   },
   "file_extension": ".py",
   "mimetype": "text/x-python",
   "name": "python",
   "nbconvert_exporter": "python",
   "pygments_lexer": "ipython3",
   "version": "3.12.10"
  }
 },
 "nbformat": 4,
 "nbformat_minor": 5
}
