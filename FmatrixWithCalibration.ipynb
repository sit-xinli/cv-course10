{
 "cells": [
  {
   "cell_type": "code",
   "execution_count": 25,
   "id": "01cc409f",
   "metadata": {},
   "outputs": [],
   "source": [
    "import cv2\n",
    "import numpy as np\n",
    "from matplotlib import pyplot as plt\n",
    "\n",
    "# Deifne the function to draw epipolar lines\n",
    "def drawlinesGray(img1,img2,lines,pts1,pts2):\n",
    "    ''' img1 - img2上の点に対応するエピポーラ線を描画する画像\n",
    "        lines - 対応するエピポーラ線 '''\n",
    "    r,c = img1.shape\n",
    "    img1 = cv2.cvtColor(img1,cv2.COLOR_GRAY2BGR)\n",
    "    img2 = cv2.cvtColor(img2,cv2.COLOR_GRAY2BGR)\n",
    "    for r,pt1,pt2 in zip(lines,pts1,pts2):\n",
    "        color = tuple(np.random.randint(0,255,3).tolist())\n",
    "        x0,y0 = map(int, [0, -r[2]/r[1] ])\n",
    "        x1,y1 = map(int, [c, -(r[2]+r[0]*c)/r[1] ])\n",
    "        img1 = cv2.line(img1, (x0,y0), (x1,y1), color,1)\n",
    "        img1 = cv2.circle(img1,tuple(pt1),5,color,-1)\n",
    "        img2 = cv2.circle(img2,tuple(pt2),5,color,-1)\n",
    "    return img1,img2\n",
    "\n",
    "def drawlines(img1,img2,lines,pts1,pts2):\n",
    "    ''' img1 - image on which we draw the epilines for the points in img2\n",
    "        lines - corresponding epilines '''\n",
    "    r,c,ch = img1.shape\n",
    "    for r,pt1,pt2 in zip(lines,pts1,pts2):\n",
    "        color = tuple(np.random.randint(0,255,3).tolist())\n",
    "        x0,y0 = map(int, [0, -r[2]/r[1] ])\n",
    "        x1,y1 = map(int, [c, -(r[2]+r[0]*c)/r[1] ])\n",
    "        img1 = cv2.line(img1, (x0,y0), (x1,y1), color,1)\n",
    "        img1 = cv2.circle(img1,tuple(pt1),5,color,-1)\n",
    "        img2 = cv2.circle(img2,tuple(pt2),5,color,-1)\n",
    "    return img1,img2"
   ]
  },
  {
   "cell_type": "markdown",
   "id": "e926b1b2",
   "metadata": {},
   "source": [
    "### 私のiphone12 proのカメラ内部パラメータ行列\n",
    "```\n",
    "カメラ内部パラメタ：\n",
    "[[785.44715026   0.         505.38010871]\n",
    " [  0.         784.61050963 374.79914586]\n",
    " [  0.           0.           1.        ]]\n",
    "\n",
    " カメラ変形係数:\n",
    "[[ 2.06842271e-01 -9.41496462e-01 -5.80054635e-04 -1.29098447e-03\n",
    "   1.53535374e+00]]\n",
    "```"
   ]
  },
  {
   "cell_type": "code",
   "execution_count": 26,
   "id": "2a95a02d",
   "metadata": {},
   "outputs": [],
   "source": [
    "img1 = cv2.imread('data/IMG_8297.jpg')  #left image\n",
    "img2 = cv2.imread('data/IMG_8298.jpg')  #right image\n",
    "img1 = cv2.resize(img1, ((int)(img1.shape[1]/4), (int)(img1.shape[0]/4)))\n",
    "# resize img2 to match img1\n",
    "h,w, c = img1.shape\n",
    "img2= cv2.resize(img2, (w, h), interpolation=cv2.INTER_LINEAR)"
   ]
  },
  {
   "cell_type": "code",
   "execution_count": 27,
   "id": "c87d33b2",
   "metadata": {},
   "outputs": [],
   "source": [
    "# カメラ行列と歪み行列\n",
    "K = np.array([\n",
    " [785.44715026,   0.,        505.38010871],\n",
    " [  0. ,        784.61050963, 374.79914586],\n",
    " [  0. ,          0.,           1.        ]])\n",
    "\n",
    "dist_coef = np.array(\n",
    "  [ 2.06842271e-01, -9.41496462e-01, -5.80054635e-04, -1.29098447e-03,1.53535374e+00])\n",
    "\n",
    "# 画像の歪みを取る\n",
    "img1 = cv2.undistort(img1, K, dist_coef, None)\n",
    "img2 = cv2.undistort(img2, K, dist_coef, None)"
   ]
  },
  {
   "cell_type": "code",
   "execution_count": 28,
   "id": "b186c3c3",
   "metadata": {},
   "outputs": [
    {
     "data": {
      "text/plain": [
       "-1"
      ]
     },
     "execution_count": 28,
     "metadata": {},
     "output_type": "execute_result"
    }
   ],
   "source": [
    "# 特徴点検出と記述子の計算\n",
    "sift = cv2.SIFT_create()\n",
    "kp1, des1 = sift.detectAndCompute(img1, None)\n",
    "kp2, des2 = sift.detectAndCompute(img2, None)\n",
    "\n",
    "#可視化特徴点\n",
    "img1_kp = cv2.drawKeypoints(img1, kp1, None, flags=cv2.DRAW_MATCHES_FLAGS_DRAW_RICH_KEYPOINTS)\n",
    "img2_kp = cv2.drawKeypoints(img2, kp2, None, flags=cv2.DRAW_MATCHES_FLAGS_DRAW_RICH_KEYPOINTS)\n",
    "img12_kp = np.hstack((img1_kp, img2_kp))\n",
    "cv2.namedWindow('Image', cv2.WINDOW_NORMAL)\n",
    "cv2.imshow('Image', img12_kp)\n",
    "cv2.waitKey(0)"
   ]
  },
  {
   "cell_type": "code",
   "execution_count": 29,
   "id": "db0d628f",
   "metadata": {},
   "outputs": [
    {
     "data": {
      "text/plain": [
       "-1"
      ]
     },
     "execution_count": 29,
     "metadata": {},
     "output_type": "execute_result"
    }
   ],
   "source": [
    "good = []\n",
    "pts1 = []\n",
    "pts2 = []\n",
    "\n",
    "# マッチングのため、BFMatcher オブジェクトを作成する\n",
    "bf = cv2.BFMatcher()\n",
    "matches = bf.match(des1,des2)\n",
    "\n",
    "# 距離の近い順に並べる.\n",
    "matches = sorted(matches, key = lambda x:x.distance)\n",
    "\n",
    "count = 0\n",
    "for m in matches:\n",
    "    count+=1\n",
    "    if count < 60:\n",
    "        good.append([m])\n",
    "        pts2.append(kp2[m.trainIdx].pt)\n",
    "        pts1.append(kp1[m.queryIdx].pt)   \n",
    "        \n",
    "        \n",
    "pts1 = np.int32(pts1)\n",
    "pts2 = np.int32(pts2)\n",
    "F, mask = cv2.findFundamentalMat(pts1,pts2,cv2.FM_RANSAC)\n",
    "\n",
    "# 外れ値を取り除く\n",
    "pts1_inliers = pts1[mask.ravel()==1]\n",
    "pts2_inliers = pts2[mask.ravel()==1]\n",
    "\n",
    "pts1 = pts1_inliers[0:200,:]\n",
    "pts2 = pts2_inliers[0:200,:]\n",
    "\n",
    "# 右画像(二番目の画像)中の点に対応するエピポーラ線の計算\n",
    "# 計算したエピポーラ線を左画像に描画\n",
    "lines1 = cv2.computeCorrespondEpilines(pts1.reshape(-1,1,2), 2,F)\n",
    "lines1 = lines1.reshape(-1,3)\n",
    "img5,img6 = drawlines(img1,img2,lines1,pts1,pts2)\n",
    "\n",
    "# 左画像(一番目の画像)中の点に対応するエピポーラ線の計算\n",
    "# 計算したエピポーラ線を右画像に描画\n",
    "lines2 = cv2.computeCorrespondEpilines(pts1.reshape(-1,1,2), 1,F)\n",
    "lines2 = lines2.reshape(-1,3)\n",
    "img3,img4 = drawlines(img2,img1,lines2,pts1,pts2)\n",
    "\n",
    "# 結果の表示\n",
    "img35 = np.hstack((img3,img5))\n",
    "cv2.namedWindow('Image', cv2.WINDOW_NORMAL)\n",
    "cv2.imshow('Image', img35)\n",
    "cv2.waitKey(0)"
   ]
  },
  {
   "cell_type": "code",
   "execution_count": null,
   "id": "64693eb4",
   "metadata": {},
   "outputs": [],
   "source": [
    "# まずは画像点から逆透視投影算\n",
    "pts1_norm = cv2.undistortPoints(np.expand_dims(np.float32(pts1), axis=1), cameraMatrix=K, distCoeffs=None)\n",
    "pts2_norm = cv2.undistortPoints(np.expand_dims(np.float32(pts2), axis=1), cameraMatrix=K, distCoeffs=None)\n",
    "\n",
    "# 同次座標のxハットから基本行列の計算\n",
    "E, mask = cv2.findEssentialMat(pts1_norm, pts2_norm, focal=1.0, pp=(0., 0.), method=cv2.RANSAC, prob=0.999, threshold=3.0)\n",
    "# EからR, tを計算、\n",
    "# ここでRは回転行列、tは並進ベクトル\n",
    "# maskは外れ値を除去するためのマスク\n",
    "points, R, t, mask = cv2.recoverPose(E, pts1_norm, pts2_norm)\n",
    "\n",
    "#座標点から3次元点を計算\n",
    "M_r = np.hstack((R, t))\n",
    "M_l = np.hstack((np.eye(3, 3), np.zeros((3, 1))))\n",
    "P_l = np.dot(K,  M_l)\n",
    "P_r = np.dot(K,  M_r)\n",
    "point_4d_hom = cv2.triangulatePoints(P_l, P_r, np.expand_dims(pts1, axis=1), np.expand_dims(pts2, axis=1))\n",
    "point_4d = point_4d_hom / np.tile(point_4d_hom[-1, :], (4, 1))\n",
    "point_4d = point_4d[:3, :].T\n",
    "\n",
    "# 基本行列から基礎行列計算 \n",
    "Kinv = np.linalg.inv(K)\n",
    "Kinvt = np.transpose(Kinv)\n",
    "F = np.dot(Kinvt,E,K)"
   ]
  },
  {
   "cell_type": "code",
   "execution_count": null,
   "id": "bb423dec",
   "metadata": {},
   "outputs": [],
   "source": [
    "# 右画像(二番目の画像)中の点に対応するエピポーラ線の計算\n",
    "# 計算したエピポーラ線を左画像に描画\n",
    "lines1 = cv2.computeCorrespondEpilines(pts2.reshape(-1,1,2), 2,F)\n",
    "lines1 = lines1.reshape(-1,3)\n",
    "img15,img16 = drawlines(img1,img2,lines1,pts1,pts2)\n",
    "\n",
    "# 左画像(一番目の画像)中の点に対応するエピポーラ線の計算\n",
    "# 計算したエピポーラ線を右画像に描画\n",
    "lines2 = cv2.computeCorrespondEpilines(pts1.reshape(-1,1,2), 1,F)\n",
    "lines2 = lines2.reshape(-1,3)\n",
    "img13,img14 = drawlines(img2,img1,lines2,pts2,pts1)\n",
    "\n",
    "# 結果の表示\n",
    "# 結果の表示\n",
    "img1315 = np.hstack((img13,img15))\n",
    "cv2.namedWindow('Image', cv2.WINDOW_NORMAL)\n",
    "cv2.imshow('Image', img1315)\n",
    "cv2.waitKey(0)"
   ]
  }
 ],
 "metadata": {
  "kernelspec": {
   "display_name": "cv-course10",
   "language": "python",
   "name": "python3"
  },
  "language_info": {
   "codemirror_mode": {
    "name": "ipython",
    "version": 3
   },
   "file_extension": ".py",
   "mimetype": "text/x-python",
   "name": "python",
   "nbconvert_exporter": "python",
   "pygments_lexer": "ipython3",
   "version": "3.12.10"
  }
 },
 "nbformat": 4,
 "nbformat_minor": 5
}
